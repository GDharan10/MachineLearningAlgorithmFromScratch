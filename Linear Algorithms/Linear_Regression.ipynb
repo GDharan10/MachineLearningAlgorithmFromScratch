{
  "nbformat": 4,
  "nbformat_minor": 0,
  "metadata": {
    "colab": {
      "provenance": [],
      "authorship_tag": "ABX9TyO021Hp6vih612eEk37a6bN",
      "include_colab_link": true
    },
    "kernelspec": {
      "name": "python3",
      "display_name": "Python 3"
    },
    "language_info": {
      "name": "python"
    }
  },
  "cells": [
    {
      "cell_type": "markdown",
      "metadata": {
        "id": "view-in-github",
        "colab_type": "text"
      },
      "source": [
        "<a href=\"https://colab.research.google.com/github/GDharan10/MachineLearningAlgorithmFromScratch/blob/main/Linear%20Algorithms/Linear_Regression.ipynb\" target=\"_parent\"><img src=\"https://colab.research.google.com/assets/colab-badge.svg\" alt=\"Open In Colab\"/></a>"
      ]
    },
    {
      "cell_type": "markdown",
      "source": [
        "# **Project Overview**\n",
        "Linear regression is a simple yet powerful algorithm used for predicting a continuous target variable based on one or more input features. It assumes a linear relationship between the input variables (features) and the output variable (target). The goal of linear regression is to find the best-fitting line that minimizes the difference between the predicted values and the actual values."
      ],
      "metadata": {
        "id": "mHKNm0Erpvic"
      }
    },
    {
      "cell_type": "markdown",
      "source": [
        "# **How It Works**\n",
        "Linear regression works by finding the optimal values for the coefficients (weights) and bias that minimize the mean squared error between the predicted and actual values. The model can be represented as:\n",
        "\n",
        " ![image.png](data:image/png;base64,iVBORw0KGgoAAAANSUhEUgAAAUAAAAAoCAYAAACPQCMpAAAAAXNSR0IArs4c6QAAAARnQU1BAACxjwv8YQUAAAAJcEhZcwAADsMAAA7DAcdvqGQAAA5fSURBVHhe7Z0PbFvFHce/myo1U0nTaRKpQBDE3AYBbaCiSQU0EQ3NBEuDaJKykcyMhgZoEwR1yiBpNnBaKTiFFSeMEtbRmCA2uwPFQa1iqhKHquy5U2dnahUXFdmMSjZqJRslsiuYbveeL47tvMR+/tM4832k1/ju5T2/u9/vfr/f/e5e+iNCAYfD4eQgP2Y/ORwOJ+fgBpDD4eQs3AByOJychRtADoeTs3ADyOFwchZuADkcTs7CDSCHw8lZuAHkcDg5CzeAHA4nZ+EGkMPh5Cz/HwbwBy+sgx1oeWQLtjzRhv4xLzuR/fjPm9G7uxFb6LO3vGaG089O5CJeKwydLVJfNO7uh3XxiJGzWMeg+C7woubyKNGqNcTo8IXKPjvRb1URzTFWzloCZOK9XaThwCjxBEI1no80RLVJT+yhYk7hO6klDW1GYr/Mymf1pFalISOszMliFu0YJGSRG0AXGXhWR4RJVmQI3fkkf8cQ8bBy+giQADNWqRKgA36XycVKjG+MpCFfRXRnWTnLCUymqTMuDpBd3QLt3UgEosvPJ9s/Sr8UM0K6+uIakTbZXfMxmF4W9RTYTUNuZ30rSpeximl+oMfVq6HP6eTSMJ5608YKKRC0oufPRdhTV8QqGP8V/6FTB/H5sx4vhnf2IvXecNNprxP1LaXIYzXTBOlxVeqT7MfW9xRMl1gh60mX7BZgDKaZRWwAHTCPVaH5gdhh44BwHKjaXIpCVpNt+D8dBp7ehhjzB7/DCnPhHpSuYRW5wLgZ1oeaURE7gMYFWFCFqnXZKkXOYh6D08gbwKAffr8fwWyORM5YIJRXzDIi7qN66Jd2ojM2usoavLAMF6C8NEZppmzoPziCeh01BrH6FA8mL78YMjGCYjmyIkuxHRdQce8sKcLUp8fSP3Ri262sSgGz2r4Y9HkxkqkxeA31eZYBDI73ommnDoZXm3D9L3rgiPzOS2Y0rVqFrrGFH1jucw6UrS2C80gd1ixfjuX0WLVhPaqP3IYPPtqDEqVGJBG+dUFgH5MmOAH7dWW466oFHRtWSc+9fPkarK/UwP3sCRx+VInPDMI52IK6F/UwHNGhacMW9HzhhPm5OrT1GaB7bjOaPs7UapwHrtPsY9K4MXG+DCW3OmGoXcP6YhXWb6iGofgD/F1TMmtaPC9XrOh6rAldRwzQv1yNNTvNcH7RgzpRnw91oD5Wn9OGF56L7OOiIB2yy8QYXAB9ZrnAEAGB6HYMEDE17zumIfn5tWTgYuiUiMfUQOuqo+rk8Fl1pKGmmlQrOhqIzproqpGHGHfoiCB9tJNR66h02J2jRHufirSfzFBC2qYj+d3StyYPvcd2k5ga9hGXLfTco7YJYn+f9u3WUN8niiijyIWUiXcrqXxY+x16UpmfyUS0uEjBZJAs3xjJdtafHgfrC6udTJzUkvtV7WQ0JrE+P3aiV0ck4ydHiEZsv9SnPjLygkrqm8wsMFF9VDcQ4zesmPWkQXYZGIMLoc9RBlB8gNDSdYCM7qVfptKS0XA7RCUS6xLouO8DxOfzKT4S7jIfVe69o7K/bz9AFV1tnOmkywLRt+4i2oNaomnVkiE3q0+GNBhAe1+DvAPxDJHt4gC1sbII7UeXbYBo2iLaE0bcahC5ZYbJLF8rySdwVk+qS6pJuyXmykkXEd6ncpaMcCqkPohEfZMfKHaiU+WThvAzBsiESUu2P04d5aZKUrvXSCZijKM0eMwRDvTiAKmmA6bhQ3FAecjQs3eSO9XvEHuEPgt9GtKwrZpU0nvuOijQmmTJQQOoZAwmRJL6nCLR/ydIMIhgXh7y/Ba03VSHoY4T+PJ3peykDT2rHkTXr4bxbVeFsqlJujnTgya3GofrZk8XHW9txMaXa3Diuz0oFVcYazVAz1GoxVzSlBUd942h6h+d8+TZ/LANGiBcYcVI3PR69y3YXy6X21iJ8qfr44T9XpiaDSjqF58tBtbnnr98iUHaLv8ZAwx0mlIwaULLBTW+HKiflVAOTgF54cUDB3rv34iO0qP4zxtVKGC1M7B20TM+Uwucvwl9TzxCzyG3O9sNa6cLt1BdkO2NB3agfu38WmJ7rQnuxsOov5FVhGFt2XIC31H98x/vgG7Ji9i/WWyVm/bhg2jH6zjVXzPTJ9O6y4r+42246TEB+099jta1rDICx1stEDb3oXk1LUxR3a55ECMPf45P5pt2f2VB77CTFSLxwW6yAJu34a4VrCqCpXdvQ3O5ktRGesik7BIfg4mjTJ/ThGQGYxC9qTRdiIxGaAh6v+hRU44cUsfeV0v0DlaIYjpy1YU8ifTMkZ5O9NT58TdoTspHqD6LluS/MiJ/zpdA/Cp6zRfo9awYBYtYYve9SWmHRLzpdMQTVz6hPkhYjnNG8yNES73ziOw5Gs1/z66fk1iPH0FglLTTtqgOhM6OvhIhU0rgZDvVz/kirhk9kI9yXGRgKz0fMZ1yvVdN7xkvKpqrLybIwOM0sj8nd44eCahGRsiY7BSMwWRJWJ9TQ2YVOAj76X76U42K9aEaEe8FgdrkEpStju/JguMm9L7Zq/gwjSeSofbigo0+h4xXB8Zh+ytQ2FiKYlqSnvnRWyK8XAGuvxkYOu9i5TlYVoCCApljBfWKeSvkzxXE8ZgiFxzwlBbLejPvWQusqEJFSXKRgt85Tq+Pkc8PNCpKdeVzSZ5MW8VjBY2U8rBC9lwB8paw6+fi0gUI68roE8vwbxuMNLZTrxelCJT9ehB9b9RIMk0MJ8Y/oz+2lERdE5ya1q8iPNLWh74nKxRu05i7L35C2/sT2XP0SEA1MkKmZKdgDIZmHr3op5Gz2PveMyb007Fu+NQtlecivj4H4RzuR++gjX4D/X0anRvoffuPOqRywjBDGEEoQoiOOuJ51BiSzQEm4HmkKCq/PSI3OYMYuaoiFm5cH86OnqQd6snm8VLMAdr77ifV78ktc9BoaBONeGRyKnNGgJdpP5TQa9rEiDI6XzKN/aCcl1YYAc5JankkaZYhm0NiCxZzLgiJbVURVUwy3H6omsq+krxzjhai8n+My0Nk11zRN4sIK2nEmVywlmoO0EfsJiMZccd+u9L6REkxB6hgDPrMetovLmJ8XEWqn9STEUlotL9rYhaklOqzY4DobQEi7KNy29ouRd/TdkrJ20MyESD1Gj+jP3yBsIUOnulF15v0Q4xHnZM5Pc/8R3zPQ6FRlPVWCyxfRPuP4AUDdj9nh3rocCjfR/FdcYc+ZAXUazp8cH1qRfRT+WF9VQP9z/vwyUuJ51b9p83o/4rGMisLsXRKgIV6XVF2Yb42QO9uhlrWSy88znErij61QJhiFRLUqx/ZjV0ONYb71bL5KVEXD/yrGR/8MSL/R+cmY29b4S0swkoaXrvHzDR6oFA9DEH7+JABxb+VzyW5j2rRWziIw0q33aQJ78e7sXF7E+oqe2lLZlBaf81IeAz6IXiLUX6jFxPDt2HLS62oCgst+o0npfrssAVRvt4L93ngrmc6ob59RrJK3h6SMYAFqHp+EGp3FzQv06lpZxMaXx2RXpupubckc8nIBHHYBKgNR1FmqkZjZ2jq3LW7DvXdfqhPnUDnAzNPuJIOiFks1GZYvwPCda/jk+e90NS2UIciPnsHmqqbYLnjLfyTDvji2Lch5qFgXRUVehXKlpjR1mpBxRBte7kBOlFm+9vQ8u4K/F6XweRxStC+sKkxaCyDqaYRHVJfdKHtsXro/GqcGulEheiEY/nahLb3CnHgb3tiXr2ig4xOZys23wL3oSZopzpxZkANx9tdUj937OyA8+HDsoshwTM96Dinxok/1cga3GtB4R0V1DAUouKZiqgAQ2n9tSLxMUhtyVNVKBTf6llLdVVccBK5ZIPls2aUTJcpSvW55Cl6vd8JYbgZVeGXCsTpd2JpujAsEpSBTWMnacD6fi0NR6P3BC4MdKoxvfeIEog3dT6tjUnGsulf5NRICalMgcP7/yjhFEH8Kcy8iyDsPpF3kfpk3v1zWTAFjtj/F9azeH0xKRD93qHwtDhwmk4BY5owq+0Bph+sOAv3EGk/OPNHGFwfGpNM3Kc6Bb7WpDIFVjgGKdIC076Zb5N0Wkp/xPxxEYX6LC2GPW6cSZXQMaaqCaVOAvOOgRliIkAvzDvXYPmqNlj8bBq7zAHzIQsKqcV9JInXktKKFEXNTMPz4k2d7y7HHtombzgr6oHnYhX1GEn6+huKsf/25K4VveZd054pnCJIccLF7hN5F6lPFESSyVOE4q7ipKImP40Ifro2LMX4fSFuU2kdwsrNBXCNWWGlh9HkwooYRz+r7XlMP1gxCjGa7Haj4u4ABOmeZhjPATK7WBKgAKs3lmO1XNSalSQvO8VjkE6DxXRH87rpK7wYGzajdVMZ8saNMF5g1SIK9dl5fgwl964Ot8N2sh+3PVqBoitmGE4muBTCDGEIMVEsbj/45TvMEwaI0F1J8jdRi5+gRc0okVFUgngsmtDfmfO4yOiB7WTXR0lGfykR7TUT4uII0e/TkNoyFY1i7yG1L2iJ/lhqz+46pifaF2rJPSoq47JaotmnJyMLENUL3dsVRUtCt/gWh5gUjzgiPb9iQlHwrHtGRCmcOVA8BsVoMzI69pGRtkrSTqNt/aHYP4GmBFGG0Vv1Jg5Vkoa+IfLOwZmZQjyiN0KLyeLORvT+UA/1vYBwtBfjN7yIA3vrFeWnMoXjrUY4HhoML3IkzJSXegsP8m4vQdFCtEPc5HxgKfYt9AbyrMCB3iccqBmQX+TgZDfJjEFx+1HesmjND/ppXaozIHFbU4r3jTGAIYJ+N9zePKy8uXDh9jBxOBxOhpE1gBwOh5MLyGyD4XA4nNyAG0AOh5OzcAPI4XByFm4AORxOzsINIIfDyVm4AeRwODkLN4AcDidn4QaQw+HkKMD/AJUzZxRuQemEAAAAAElFTkSuQmCC)\n",
        "\n",
        "where\n",
        "y is the predicted value, 𝛽0 is the bias term, 𝛽1, 𝛽2,...,𝛽𝑛 are the weights, and 𝑥1,𝑥2,...,𝑥𝑛 are the input features."
      ],
      "metadata": {
        "id": "WdU2MNLlp6gV"
      }
    },
    {
      "cell_type": "markdown",
      "source": [
        "# **Background Python Code**\n",
        "Below is the Python code for implementing linear regression from scratch."
      ],
      "metadata": {
        "id": "lHl3YVxorDwj"
      }
    },
    {
      "cell_type": "code",
      "source": [
        "class LinearRegression:\n",
        "\n",
        "    def __init__(self, lr=0.001, n_iters=1000):\n",
        "        self.lr = lr\n",
        "        self.n_iters = n_iters\n",
        "        self.weights = None\n",
        "        self.bias = None\n",
        "\n",
        "    def fit(self, X, y):\n",
        "        n_samples, n_features = X.shape\n",
        "        self.weights = np.zeros(n_features)\n",
        "        self.bias = 0\n",
        "\n",
        "        for _ in range(self.n_iters):\n",
        "            y_pred = np.dot(X, self.weights) + self.bias\n",
        "\n",
        "            dw = (1/n_samples) * np.dot(X.T, (y_pred - y))\n",
        "            db = (1/n_samples) * np.sum(y_pred - y)\n",
        "\n",
        "            self.weights -= self.lr * dw\n",
        "            self.bias -= self.lr * db\n",
        "\n",
        "    def predict(self, X):\n",
        "        y_pred = np.dot(X, self.weights) + self.bias\n",
        "        return y_pred"
      ],
      "metadata": {
        "id": "U8gKHLWgp5mq"
      },
      "execution_count": null,
      "outputs": []
    },
    {
      "cell_type": "code",
      "execution_count": null,
      "metadata": {
        "id": "9msowcNLpp81"
      },
      "outputs": [],
      "source": []
    },
    {
      "cell_type": "markdown",
      "source": [
        "# **Implementation Details**\n",
        "* **Learning Rate (lr):** The step size for updating the weights.\n",
        "* **Number of Iterations (n_iters):** The number of times the algorithm will iterate over the training data.\n",
        "* **Weights and Bias Initialization:** The weights are initialized to zeros and the bias is initialized to zero."
      ],
      "metadata": {
        "id": "Q-bERp6tsP9c"
      }
    },
    {
      "cell_type": "markdown",
      "source": [
        "# **Key Considerations for Linear Regression Modeling:**\n",
        "\n",
        "* **Linearity:** The relationship between the input variables and the output is linear.\n",
        "* **Independence:** The observations are independent of each other.\n",
        "* **Homoscedasticity:** The residuals have constant variance.\n",
        "* **Normality:** The residuals are normally distributed."
      ],
      "metadata": {
        "id": "dTV4Z85psRpr"
      }
    },
    {
      "cell_type": "markdown",
      "source": [
        "# **Limitations:**\n",
        "\n",
        "* It assumes a linear relationship between the variables, which may not always be the case.\n",
        "* It can be sensitive to outliers.\n",
        "* It assumes that the features are independent of each other."
      ],
      "metadata": {
        "id": "EjPlAP5iuQTU"
      }
    }
  ]
}